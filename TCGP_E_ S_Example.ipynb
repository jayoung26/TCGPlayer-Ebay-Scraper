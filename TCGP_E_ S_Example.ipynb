{
 "cells": [
  {
   "cell_type": "code",
   "execution_count": 2,
   "metadata": {},
   "outputs": [],
   "source": [
    "from TCGPlayer_Ebay_Scraper_Functions import ScraperFunctions as sf"
   ]
  },
  {
   "cell_type": "code",
   "execution_count": 8,
   "metadata": {},
   "outputs": [],
   "source": [
    "url = 'https://www.tcgplayer.com/categories/trading-and-collectible-card-games/pokemon/price-guides/sv01-scarlet-and-violet-base-set'\n",
    "set_ = 'Scarlet & Violet'\n",
    "pull_rates = {'Double Rare': 0.1376, 'Ultra Rare': 0.0657, 'Illustration Rare': 0.0767, 'Special Illustration Rare': 0.0315,'Hyper Rare': 0.0185}"
   ]
  },
  {
   "cell_type": "code",
   "execution_count": 4,
   "metadata": {},
   "outputs": [],
   "source": [
    "singles_data, sealed_data = sf.singles_sealed_data_frame(url, 20, set_)"
   ]
  },
  {
   "cell_type": "code",
   "execution_count": 5,
   "metadata": {},
   "outputs": [
    {
     "data": {
      "text/html": [
       "<div>\n",
       "<style scoped>\n",
       "    .dataframe tbody tr th:only-of-type {\n",
       "        vertical-align: middle;\n",
       "    }\n",
       "\n",
       "    .dataframe tbody tr th {\n",
       "        vertical-align: top;\n",
       "    }\n",
       "\n",
       "    .dataframe thead th {\n",
       "        text-align: right;\n",
       "    }\n",
       "</style>\n",
       "<table border=\"1\" class=\"dataframe\">\n",
       "  <thead>\n",
       "    <tr style=\"text-align: right;\">\n",
       "      <th></th>\n",
       "      <th>Product Name</th>\n",
       "      <th>Printing</th>\n",
       "      <th>Rarity</th>\n",
       "      <th>Number</th>\n",
       "      <th>Market Price</th>\n",
       "    </tr>\n",
       "  </thead>\n",
       "  <tbody>\n",
       "    <tr>\n",
       "      <th>3</th>\n",
       "      <td>Arcanine ex - 032/198</td>\n",
       "      <td>Holofoil</td>\n",
       "      <td>Double Rare</td>\n",
       "      <td>032/198</td>\n",
       "      <td>0.82</td>\n",
       "    </tr>\n",
       "    <tr>\n",
       "      <th>4</th>\n",
       "      <td>Arcanine ex - 224/198</td>\n",
       "      <td>Holofoil</td>\n",
       "      <td>Ultra Rare</td>\n",
       "      <td>224/198</td>\n",
       "      <td>5.14</td>\n",
       "    </tr>\n",
       "    <tr>\n",
       "      <th>6</th>\n",
       "      <td>Armarouge - 203/198</td>\n",
       "      <td>Holofoil</td>\n",
       "      <td>Illustration Rare</td>\n",
       "      <td>203/198</td>\n",
       "      <td>10.87</td>\n",
       "    </tr>\n",
       "    <tr>\n",
       "      <th>8</th>\n",
       "      <td>Arven - 235/198</td>\n",
       "      <td>Holofoil</td>\n",
       "      <td>Ultra Rare</td>\n",
       "      <td>235/198</td>\n",
       "      <td>9.96</td>\n",
       "    </tr>\n",
       "    <tr>\n",
       "      <th>9</th>\n",
       "      <td>Arven - 249/198</td>\n",
       "      <td>Holofoil</td>\n",
       "      <td>Special Illustration Rare</td>\n",
       "      <td>249/198</td>\n",
       "      <td>11.22</td>\n",
       "    </tr>\n",
       "  </tbody>\n",
       "</table>\n",
       "</div>"
      ],
      "text/plain": [
       "            Product Name  Printing                     Rarity   Number   \n",
       "3  Arcanine ex - 032/198  Holofoil                Double Rare  032/198  \\\n",
       "4  Arcanine ex - 224/198  Holofoil                 Ultra Rare  224/198   \n",
       "6    Armarouge - 203/198  Holofoil          Illustration Rare  203/198   \n",
       "8        Arven - 235/198  Holofoil                 Ultra Rare  235/198   \n",
       "9        Arven - 249/198  Holofoil  Special Illustration Rare  249/198   \n",
       "\n",
       "   Market Price  \n",
       "3          0.82  \n",
       "4          5.14  \n",
       "6         10.87  \n",
       "8          9.96  \n",
       "9         11.22  "
      ]
     },
     "execution_count": 5,
     "metadata": {},
     "output_type": "execute_result"
    }
   ],
   "source": [
    "singles_data.head()"
   ]
  },
  {
   "cell_type": "code",
   "execution_count": 6,
   "metadata": {},
   "outputs": [
    {
     "data": {
      "text/html": [
       "<div>\n",
       "<style scoped>\n",
       "    .dataframe tbody tr th:only-of-type {\n",
       "        vertical-align: middle;\n",
       "    }\n",
       "\n",
       "    .dataframe tbody tr th {\n",
       "        vertical-align: top;\n",
       "    }\n",
       "\n",
       "    .dataframe thead th {\n",
       "        text-align: right;\n",
       "    }\n",
       "</style>\n",
       "<table border=\"1\" class=\"dataframe\">\n",
       "  <thead>\n",
       "    <tr style=\"text-align: right;\">\n",
       "      <th></th>\n",
       "      <th>Product Name</th>\n",
       "      <th>Market Price</th>\n",
       "    </tr>\n",
       "  </thead>\n",
       "  <tbody>\n",
       "    <tr>\n",
       "      <th>0</th>\n",
       "      <td>3 Pack Blister [Arcanine]</td>\n",
       "      <td>16.22</td>\n",
       "    </tr>\n",
       "    <tr>\n",
       "      <th>1</th>\n",
       "      <td>3 Pack Blister [Dondozo]</td>\n",
       "      <td>14.72</td>\n",
       "    </tr>\n",
       "    <tr>\n",
       "      <th>2</th>\n",
       "      <td>3 Pack Blister [Set of 2]</td>\n",
       "      <td>27.75</td>\n",
       "    </tr>\n",
       "    <tr>\n",
       "      <th>3</th>\n",
       "      <td>Booster Box</td>\n",
       "      <td>142.55</td>\n",
       "    </tr>\n",
       "    <tr>\n",
       "      <th>4</th>\n",
       "      <td>Booster Box Case</td>\n",
       "      <td>744.24</td>\n",
       "    </tr>\n",
       "  </tbody>\n",
       "</table>\n",
       "</div>"
      ],
      "text/plain": [
       "                Product Name  Market Price\n",
       "0  3 Pack Blister [Arcanine]         16.22\n",
       "1   3 Pack Blister [Dondozo]         14.72\n",
       "2  3 Pack Blister [Set of 2]         27.75\n",
       "3                Booster Box        142.55\n",
       "4           Booster Box Case        744.24"
      ]
     },
     "execution_count": 6,
     "metadata": {},
     "output_type": "execute_result"
    }
   ],
   "source": [
    "sealed_data.head()"
   ]
  },
  {
   "cell_type": "code",
   "execution_count": 9,
   "metadata": {},
   "outputs": [
    {
     "name": "stdout",
     "output_type": "stream",
     "text": [
      "Scarlet & Violet Recovery Rate: [47.23316216]%\n"
     ]
    }
   ],
   "source": [
    "sf.recovery_rate_func(singles_data, sealed_data, pull_rates, set_)"
   ]
  },
  {
   "cell_type": "code",
   "execution_count": 10,
   "metadata": {},
   "outputs": [],
   "source": [
    "urls = {'Scarlet & Violet' : 'https://www.tcgplayer.com/categories/trading-and-collectible-card-games/pokemon/price-guides/sv01-scarlet-and-violet-base-set'}\n",
    "sets = ['Scarlet & Violet']"
   ]
  },
  {
   "cell_type": "code",
   "execution_count": 11,
   "metadata": {},
   "outputs": [],
   "source": [
    "market_data = sf.market_data_frame(urls, 20, sets)"
   ]
  },
  {
   "cell_type": "code",
   "execution_count": 12,
   "metadata": {},
   "outputs": [
    {
     "data": {
      "text/html": [
       "<div>\n",
       "<style scoped>\n",
       "    .dataframe tbody tr th:only-of-type {\n",
       "        vertical-align: middle;\n",
       "    }\n",
       "\n",
       "    .dataframe tbody tr th {\n",
       "        vertical-align: top;\n",
       "    }\n",
       "\n",
       "    .dataframe thead th {\n",
       "        text-align: right;\n",
       "    }\n",
       "</style>\n",
       "<table border=\"1\" class=\"dataframe\">\n",
       "  <thead>\n",
       "    <tr style=\"text-align: right;\">\n",
       "      <th></th>\n",
       "      <th>Set</th>\n",
       "      <th>Product Name</th>\n",
       "      <th>Printing</th>\n",
       "      <th>Rarity</th>\n",
       "      <th>Number</th>\n",
       "      <th>Market Price</th>\n",
       "    </tr>\n",
       "  </thead>\n",
       "  <tbody>\n",
       "    <tr>\n",
       "      <th>0</th>\n",
       "      <td>Scarlet &amp; Violet</td>\n",
       "      <td>Alomomola</td>\n",
       "      <td>Reverse Holofoil</td>\n",
       "      <td>Common</td>\n",
       "      <td>048/198</td>\n",
       "      <td>0.09</td>\n",
       "    </tr>\n",
       "    <tr>\n",
       "      <th>1</th>\n",
       "      <td>Scarlet &amp; Violet</td>\n",
       "      <td>Annihilape</td>\n",
       "      <td>Reverse Holofoil</td>\n",
       "      <td>Rare</td>\n",
       "      <td>109/198</td>\n",
       "      <td>0.21</td>\n",
       "    </tr>\n",
       "    <tr>\n",
       "      <th>2</th>\n",
       "      <td>Scarlet &amp; Violet</td>\n",
       "      <td>Arboliva</td>\n",
       "      <td>Reverse Holofoil</td>\n",
       "      <td>Rare</td>\n",
       "      <td>023/198</td>\n",
       "      <td>0.16</td>\n",
       "    </tr>\n",
       "    <tr>\n",
       "      <th>3</th>\n",
       "      <td>Scarlet &amp; Violet</td>\n",
       "      <td>Arcanine ex</td>\n",
       "      <td>Holofoil</td>\n",
       "      <td>Double Rare</td>\n",
       "      <td>032/198</td>\n",
       "      <td>0.82</td>\n",
       "    </tr>\n",
       "    <tr>\n",
       "      <th>4</th>\n",
       "      <td>Scarlet &amp; Violet</td>\n",
       "      <td>Arcanine ex</td>\n",
       "      <td>Holofoil</td>\n",
       "      <td>Ultra Rare</td>\n",
       "      <td>224/198</td>\n",
       "      <td>5.14</td>\n",
       "    </tr>\n",
       "  </tbody>\n",
       "</table>\n",
       "</div>"
      ],
      "text/plain": [
       "                Set Product Name          Printing       Rarity   Number   \n",
       "0  Scarlet & Violet    Alomomola  Reverse Holofoil       Common  048/198  \\\n",
       "1  Scarlet & Violet   Annihilape  Reverse Holofoil         Rare  109/198   \n",
       "2  Scarlet & Violet     Arboliva  Reverse Holofoil         Rare  023/198   \n",
       "3  Scarlet & Violet  Arcanine ex          Holofoil  Double Rare  032/198   \n",
       "4  Scarlet & Violet  Arcanine ex          Holofoil   Ultra Rare  224/198   \n",
       "\n",
       "   Market Price  \n",
       "0          0.09  \n",
       "1          0.21  \n",
       "2          0.16  \n",
       "3          0.82  \n",
       "4          5.14  "
      ]
     },
     "execution_count": 12,
     "metadata": {},
     "output_type": "execute_result"
    }
   ],
   "source": [
    "market_data.head()"
   ]
  },
  {
   "cell_type": "code",
   "execution_count": 16,
   "metadata": {},
   "outputs": [],
   "source": [
    "ebay_data = sf.ebay_scraper('Twilight Masquerade Eevee 188/167', sold=True, graded=False)"
   ]
  },
  {
   "cell_type": "code",
   "execution_count": 14,
   "metadata": {},
   "outputs": [
    {
     "data": {
      "text/html": [
       "<div>\n",
       "<style scoped>\n",
       "    .dataframe tbody tr th:only-of-type {\n",
       "        vertical-align: middle;\n",
       "    }\n",
       "\n",
       "    .dataframe tbody tr th {\n",
       "        vertical-align: top;\n",
       "    }\n",
       "\n",
       "    .dataframe thead th {\n",
       "        text-align: right;\n",
       "    }\n",
       "</style>\n",
       "<table border=\"1\" class=\"dataframe\">\n",
       "  <thead>\n",
       "    <tr style=\"text-align: right;\">\n",
       "      <th></th>\n",
       "      <th>Name</th>\n",
       "      <th>Price</th>\n",
       "      <th>Sold Date</th>\n",
       "    </tr>\n",
       "  </thead>\n",
       "  <tbody>\n",
       "    <tr>\n",
       "      <th>0</th>\n",
       "      <td>Pokemon Card Eevee 188/167 Secret Rare Scarlet...</td>\n",
       "      <td>119.99</td>\n",
       "      <td>Jan 19, 2025</td>\n",
       "    </tr>\n",
       "    <tr>\n",
       "      <th>1</th>\n",
       "      <td>PSA 10 GEM MINT Pokemon Eevee 188/167 Illustra...</td>\n",
       "      <td>384.99</td>\n",
       "      <td>Jan 19, 2025</td>\n",
       "    </tr>\n",
       "    <tr>\n",
       "      <th>2</th>\n",
       "      <td>Eevee 188/167 Sv06: Twilight Masquerade Holo I...</td>\n",
       "      <td>330.00</td>\n",
       "      <td>Jan 19, 2025</td>\n",
       "    </tr>\n",
       "    <tr>\n",
       "      <th>3</th>\n",
       "      <td>PSA 10 Eevee 188/167 Sv06: Twilight Masquerade...</td>\n",
       "      <td>379.00</td>\n",
       "      <td>Jan 19, 2025</td>\n",
       "    </tr>\n",
       "    <tr>\n",
       "      <th>4</th>\n",
       "      <td>Pokemon Card Eevee 188/167 Secret Rare Scarlet...</td>\n",
       "      <td>100.00</td>\n",
       "      <td>Jan 19, 2025</td>\n",
       "    </tr>\n",
       "  </tbody>\n",
       "</table>\n",
       "</div>"
      ],
      "text/plain": [
       "                                                Name   Price      Sold Date\n",
       "0  Pokemon Card Eevee 188/167 Secret Rare Scarlet...  119.99   Jan 19, 2025\n",
       "1  PSA 10 GEM MINT Pokemon Eevee 188/167 Illustra...  384.99   Jan 19, 2025\n",
       "2  Eevee 188/167 Sv06: Twilight Masquerade Holo I...  330.00   Jan 19, 2025\n",
       "3  PSA 10 Eevee 188/167 Sv06: Twilight Masquerade...  379.00   Jan 19, 2025\n",
       "4  Pokemon Card Eevee 188/167 Secret Rare Scarlet...  100.00   Jan 19, 2025"
      ]
     },
     "execution_count": 14,
     "metadata": {},
     "output_type": "execute_result"
    }
   ],
   "source": [
    "ebay_data.head()"
   ]
  }
 ],
 "metadata": {
  "kernelspec": {
   "display_name": "Python 3",
   "language": "python",
   "name": "python3"
  },
  "language_info": {
   "codemirror_mode": {
    "name": "ipython",
    "version": 3
   },
   "file_extension": ".py",
   "mimetype": "text/x-python",
   "name": "python",
   "nbconvert_exporter": "python",
   "pygments_lexer": "ipython3",
   "version": "3.11.9"
  }
 },
 "nbformat": 4,
 "nbformat_minor": 2
}
